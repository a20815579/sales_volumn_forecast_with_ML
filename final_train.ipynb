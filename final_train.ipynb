{
 "cells": [
  {
   "cell_type": "raw",
   "metadata": {},
   "source": [
    "這是Kaggle一個已結束的競賽，其網址如下：\n",
    "https://www.kaggle.com/c/demand-forecasting-kernels-only/overview\n",
    "要以2013-2017年的銷量去預測2018年1-3月的銷量\n",
    "以下網址為此競賽報告的pdf檔，內有各種說明與分析\n",
    "https://drive.google.com/file/d/1wNvG1dGu1RlWplrA_Ksw1RfKhOaT9XDr/view?usp=sharing\n",
    "下面的程式為切割訓練資料尋找最佳模型的其中一部分程式\n",
    "此外，雖然競賽已結束，但其實網路上找不太到此競賽相關資源可參考，因此所有東西皆是我們自己嘗試與發想"
   ]
  },
  {
   "cell_type": "code",
   "execution_count": 1,
   "metadata": {},
   "outputs": [],
   "source": [
    "import pandas as pd\n",
    "import numpy as np\n",
    "import datetime as dt\n",
    "import seaborn as sns\n",
    "from sklearn.metrics import r2_score\n",
    "import scipy.sparse\n",
    "import seaborn\n",
    "import matplotlib.pyplot as plt\n",
    "%matplotlib inline"
   ]
  },
  {
   "cell_type": "code",
   "execution_count": 2,
   "metadata": {},
   "outputs": [],
   "source": [
    "train = pd.read_csv('train.csv')\n",
    "train['date'] = pd.to_datetime(train['date'], errors='coerce')\n",
    "train['year'] = train['date'].dt.year\n",
    "train['year'].replace({2013:1,2014:2,2015:3,2016:4,2017:5},inplace=True)\n",
    "train['month'] = train['date'].dt.month\n",
    "train['dayofweek'] = train['date'].dt.dayofweek\n",
    "train['weekofyear'] = train['date'].dt.weekofyear"
   ]
  },
  {
   "cell_type": "code",
   "execution_count": 3,
   "metadata": {},
   "outputs": [
    {
     "data": {
      "text/html": [
       "<div>\n",
       "<style scoped>\n",
       "    .dataframe tbody tr th:only-of-type {\n",
       "        vertical-align: middle;\n",
       "    }\n",
       "\n",
       "    .dataframe tbody tr th {\n",
       "        vertical-align: top;\n",
       "    }\n",
       "\n",
       "    .dataframe thead th {\n",
       "        text-align: right;\n",
       "    }\n",
       "</style>\n",
       "<table border=\"1\" class=\"dataframe\">\n",
       "  <thead>\n",
       "    <tr style=\"text-align: right;\">\n",
       "      <th></th>\n",
       "      <th>date</th>\n",
       "      <th>store</th>\n",
       "      <th>item</th>\n",
       "      <th>sales</th>\n",
       "      <th>year</th>\n",
       "      <th>month</th>\n",
       "      <th>dayofweek</th>\n",
       "      <th>weekofyear</th>\n",
       "    </tr>\n",
       "  </thead>\n",
       "  <tbody>\n",
       "    <tr>\n",
       "      <th>0</th>\n",
       "      <td>2013-01-01</td>\n",
       "      <td>1</td>\n",
       "      <td>1</td>\n",
       "      <td>13</td>\n",
       "      <td>1</td>\n",
       "      <td>1</td>\n",
       "      <td>1</td>\n",
       "      <td>1</td>\n",
       "    </tr>\n",
       "    <tr>\n",
       "      <th>1</th>\n",
       "      <td>2013-01-02</td>\n",
       "      <td>1</td>\n",
       "      <td>1</td>\n",
       "      <td>11</td>\n",
       "      <td>1</td>\n",
       "      <td>1</td>\n",
       "      <td>2</td>\n",
       "      <td>1</td>\n",
       "    </tr>\n",
       "    <tr>\n",
       "      <th>2</th>\n",
       "      <td>2013-01-03</td>\n",
       "      <td>1</td>\n",
       "      <td>1</td>\n",
       "      <td>14</td>\n",
       "      <td>1</td>\n",
       "      <td>1</td>\n",
       "      <td>3</td>\n",
       "      <td>1</td>\n",
       "    </tr>\n",
       "    <tr>\n",
       "      <th>3</th>\n",
       "      <td>2013-01-04</td>\n",
       "      <td>1</td>\n",
       "      <td>1</td>\n",
       "      <td>13</td>\n",
       "      <td>1</td>\n",
       "      <td>1</td>\n",
       "      <td>4</td>\n",
       "      <td>1</td>\n",
       "    </tr>\n",
       "    <tr>\n",
       "      <th>4</th>\n",
       "      <td>2013-01-05</td>\n",
       "      <td>1</td>\n",
       "      <td>1</td>\n",
       "      <td>10</td>\n",
       "      <td>1</td>\n",
       "      <td>1</td>\n",
       "      <td>5</td>\n",
       "      <td>1</td>\n",
       "    </tr>\n",
       "  </tbody>\n",
       "</table>\n",
       "</div>"
      ],
      "text/plain": [
       "        date  store  item  sales  year  month  dayofweek  weekofyear\n",
       "0 2013-01-01      1     1     13     1      1          1           1\n",
       "1 2013-01-02      1     1     11     1      1          2           1\n",
       "2 2013-01-03      1     1     14     1      1          3           1\n",
       "3 2013-01-04      1     1     13     1      1          4           1\n",
       "4 2013-01-05      1     1     10     1      1          5           1"
      ]
     },
     "execution_count": 3,
     "metadata": {},
     "output_type": "execute_result"
    }
   ],
   "source": [
    "train.head()"
   ]
  },
  {
   "cell_type": "code",
   "execution_count": 4,
   "metadata": {},
   "outputs": [],
   "source": [
    "def SMAPE(test_y,pred_y):\n",
    "    print(100/len(test_y)*np.sum(2*np.abs(test_y-pred_y)/(np.abs(test_y) + np.abs(pred_y))))"
   ]
  },
  {
   "cell_type": "code",
   "execution_count": 5,
   "metadata": {},
   "outputs": [],
   "source": [
    "#一個一個商品跑\n",
    "def spe_item_predict(clf,train):\n",
    "    pred_total = np.zeros([0,0])\n",
    "    test_total = np.zeros([0,0])\n",
    "    for i in range(1,51):\n",
    "        train_X = train[(train['item']==i)&(train['year']<5)].drop(columns=['sales','date'])\n",
    "        train_y = train[(train['item']==i)&(train['year']<5)]['sales']\n",
    "        test_X = train[(train['item']==i)&(train['year']==5)&(train['month']<=3)].drop(columns=['sales','date'])\n",
    "        test_y = train[(train['item']==i)&(train['year']==5)&(train['month']<=3)]['sales'].to_numpy()\n",
    "        train_X = pd.get_dummies(train_X,columns = ['store'])\n",
    "        test_X = pd.get_dummies(test_X,columns = ['store'])\n",
    "        clf.fit(train_X, train_y)\n",
    "        pred_y = clf.predict(test_X)\n",
    "        pred_total = np.append(pred_total,pred_y)\n",
    "        test_total = np.append(test_total,test_y)\n",
    "    print(r2_score(test_total,pred_total))\n",
    "    SMAPE(test_y,pred_y)"
   ]
  },
  {
   "cell_type": "code",
   "execution_count": 6,
   "metadata": {},
   "outputs": [],
   "source": [
    "#一間一間商店跑\n",
    "def spe_store_predict(clf,train):\n",
    "    pred_total = np.zeros([0,0])\n",
    "    test_total = np.zeros([0,0])\n",
    "    for i in range(1,11):\n",
    "        train_X = train[(train['store']==i)&(train['year']<5)].drop(columns=['sales','date'])\n",
    "        train_y = train[(train['store']==i)&(train['year']<5)]['sales']\n",
    "        test_X = train[(train['store']==i)&(train['year']==5)&(train['month']<=3)].drop(columns=['sales','date'])\n",
    "        test_y = train[(train['store']==i)&(train['year']==5)&(train['month']<=3)]['sales'].to_numpy()\n",
    "        train_X = pd.get_dummies(train_X,columns = ['item'])\n",
    "        test_X = pd.get_dummies(test_X,columns = ['item'])\n",
    "        clf.fit(train_X, train_y)\n",
    "        pred_y = clf.predict(test_X)\n",
    "        pred_total = np.append(pred_total,pred_y)\n",
    "        test_total = np.append(test_total,test_y)\n",
    "    print(r2_score(test_total,pred_total))\n",
    "    SMAPE(test_y,pred_y)"
   ]
  },
  {
   "cell_type": "code",
   "execution_count": 7,
   "metadata": {},
   "outputs": [],
   "source": [
    "#一個一個商品跑三個月\n",
    "def spe_item_predict_3month(clf,train):\n",
    "    pred_total = np.zeros([0,0])\n",
    "    test_total = np.zeros([0,0])\n",
    "    for i in range(1,51):\n",
    "        train_X = train[(train['item']==i)&(train['year']<5)&(train['month']<=3)].drop(columns=['sales','date'])\n",
    "        train_y = train[(train['item']==i)&(train['year']<5)&(train['month']<=3)]['sales']\n",
    "        test_X = train[(train['item']==i)&(train['year']==5)&(train['month']<=3)].drop(columns=['sales','date'])\n",
    "        test_y = train[(train['item']==i)&(train['year']==5)&(train['month']<=3)]['sales'].to_numpy()\n",
    "        train_X = pd.get_dummies(train_X,columns = ['store'])\n",
    "        test_X = pd.get_dummies(test_X,columns = ['store'])\n",
    "        clf.fit(train_X, train_y)\n",
    "        pred_y = clf.predict(test_X)\n",
    "        pred_total = np.append(pred_total,pred_y)\n",
    "        test_total = np.append(test_total,test_y)\n",
    "    print(r2_score(test_total,pred_total))\n",
    "    SMAPE(test_y,pred_y)"
   ]
  },
  {
   "cell_type": "code",
   "execution_count": 54,
   "metadata": {},
   "outputs": [],
   "source": [
    "#全部分開跑\n",
    "def spe_all_predict(clf,train):\n",
    "    pred_total = np.zeros([0,0])\n",
    "    test_total = np.zeros([0,0])\n",
    "    for i in range(1,51):\n",
    "        for j in range(1,11):\n",
    "            train_X = train[(train['item']==i)&(train['year']<5)&(train['store']==j)].drop(columns=['sales','date'])\n",
    "            train_y = train[(train['item']==i)&(train['year']<5)&(train['store']==j)]['sales']\n",
    "            test_X = train[(train['item']==i)&(train['year']==5)&(train['store']==j)&(train['month']<=3)].drop(columns=['sales','date'])\n",
    "            test_y = train[(train['item']==i)&(train['year']==5)&(train['store']==j)&(train['month']<=3)]['sales'].to_numpy()\n",
    "            clf.fit(train_X, train_y)\n",
    "            pred_y = clf.predict(test_X)\n",
    "            pred_total = np.append(pred_total,pred_y)\n",
    "            test_total = np.append(test_total,test_y)\n",
    "    print(r2_score(test_total,pred_total))\n",
    "    SMAPE(test_y,pred_y)"
   ]
  },
  {
   "cell_type": "code",
   "execution_count": 55,
   "metadata": {},
   "outputs": [],
   "source": [
    "#全部分開跑三個月\n",
    "def spe_all_predict_3month(clf,train):\n",
    "    pred_total = np.zeros([0,0])\n",
    "    test_total = np.zeros([0,0])\n",
    "    for i in range(1,51):\n",
    "        for j in range(1,11):\n",
    "            train_X = train[(train['item']==i)&(train['year']<5)&(train['store']==j)&(train['month']<=3)].drop(columns=['sales','date'])\n",
    "            train_y = train[(train['item']==i)&(train['year']<5)&(train['store']==j)&(train['month']<=3)]['sales']\n",
    "            test_X = train[(train['item']==i)&(train['year']==5)&(train['store']==j)&(train['month']<=3)].drop(columns=['sales','date'])\n",
    "            test_y = train[(train['item']==i)&(train['year']==5)&(train['store']==j)&(train['month']<=3)]['sales'].to_numpy()\n",
    "            clf.fit(train_X, train_y)\n",
    "            pred_y = clf.predict(test_X)\n",
    "            pred_total = np.append(pred_total,pred_y)\n",
    "            test_total = np.append(test_total,test_y)\n",
    "    print(r2_score(test_total,pred_total))\n",
    "    SMAPE(test_y,pred_y)"
   ]
  },
  {
   "cell_type": "code",
   "execution_count": 35,
   "metadata": {},
   "outputs": [
    {
     "name": "stdout",
     "output_type": "stream",
     "text": [
      "0.8776771085885887\n",
      "13.1073738619752\n",
      "0.8766572485160229\n",
      "15.078270072595602\n",
      "0.8770637021417974\n",
      "13.133569449038092\n",
      "0.8763734217536469\n",
      "11.552109399791005\n",
      "0.8765325375828239\n",
      "11.513197670845427\n"
     ]
    }
   ],
   "source": [
    "from sklearn.ensemble import RandomForestRegressor\n",
    "clf = RandomForestRegressor(n_estimators=100,random_state=123,n_jobs=-1)\n",
    "spe_item_predict(clf,train)\n",
    "spe_store_predict(clf,train)\n",
    "spe_item_predict_3month(clf,train)\n",
    "spe_all_predict(clf,train)\n",
    "spe_all_predict_3month(clf,train)"
   ]
  },
  {
   "cell_type": "code",
   "execution_count": 68,
   "metadata": {},
   "outputs": [
    {
     "name": "stdout",
     "output_type": "stream",
     "text": [
      "0.8766405560983364\n",
      "11.52198201147005\n"
     ]
    }
   ],
   "source": [
    "from sklearn.ensemble import RandomForestRegressor\n",
    "clf = RandomForestRegressor(n_estimators=200,random_state=123,n_jobs=-1)\n",
    "spe_all_predict_3month(clf,train)"
   ]
  },
  {
   "cell_type": "code",
   "execution_count": 36,
   "metadata": {},
   "outputs": [
    {
     "name": "stdout",
     "output_type": "stream",
     "text": [
      "0.9104231960142101\n",
      "10.812025996203303\n",
      "0.7540902004125197\n",
      "22.536590585132142\n",
      "0.9028888259147339\n",
      "11.074109481105774\n",
      "0.9063616101561603\n",
      "9.88423876668397\n",
      "0.8994247855778825\n",
      "9.666831684017676\n"
     ]
    }
   ],
   "source": [
    "from sklearn.ensemble import GradientBoostingRegressor\n",
    "clf = GradientBoostingRegressor()\n",
    "spe_item_predict(clf,train)\n",
    "spe_store_predict(clf,train)\n",
    "spe_item_predict_3month(clf,train)\n",
    "spe_all_predict(clf,train)\n",
    "spe_all_predict_3month(clf,train)"
   ]
  },
  {
   "cell_type": "code",
   "execution_count": 66,
   "metadata": {},
   "outputs": [
    {
     "name": "stdout",
     "output_type": "stream",
     "text": [
      "0.8994790089282715\n",
      "9.567841979896688\n"
     ]
    }
   ],
   "source": [
    "#調參\n",
    "from sklearn.ensemble import GradientBoostingRegressor\n",
    "clf = GradientBoostingRegressor(random_state=123,n_estimators=200,learning_rate=0.05)\n",
    "spe_all_predict_3month(clf,train)"
   ]
  },
  {
   "cell_type": "code",
   "execution_count": 37,
   "metadata": {},
   "outputs": [
    {
     "name": "stdout",
     "output_type": "stream",
     "text": [
      "0.8048322699868169\n",
      "18.620225170144582\n",
      "0.8637220229206072\n",
      "13.074162620104598\n",
      "0.8884915527821493\n",
      "9.962714285911098\n",
      "0.8908999085748607\n",
      "9.998927078389245\n"
     ]
    }
   ],
   "source": [
    "from sklearn.ensemble import AdaBoostRegressor\n",
    "clf = AdaBoostRegressor()\n",
    "spe_item_predict(clf,train)\n",
    "#spe_store_predict(clf,train)\n",
    "spe_item_predict_3month(clf,train)\n",
    "spe_all_predict(clf,train)\n",
    "spe_all_predict_3month(clf,train)"
   ]
  },
  {
   "cell_type": "code",
   "execution_count": 62,
   "metadata": {},
   "outputs": [
    {
     "name": "stdout",
     "output_type": "stream",
     "text": [
      "0.891385715224135\n",
      "9.416389988274236\n"
     ]
    }
   ],
   "source": [
    "#調參\n",
    "from sklearn.ensemble import AdaBoostRegressor\n",
    "clf = AdaBoostRegressor(random_state=123,n_estimators=200,learning_rate=0.85)\n",
    "spe_all_predict_3month(clf,train)"
   ]
  },
  {
   "cell_type": "code",
   "execution_count": 38,
   "metadata": {},
   "outputs": [
    {
     "name": "stdout",
     "output_type": "stream",
     "text": [
      "0.8731624135011108\n",
      "13.348867629452274\n",
      "0.8724309082145107\n",
      "15.41747869256646\n",
      "0.8723345422180687\n",
      "13.277820449688079\n",
      "0.8723278027308313\n",
      "11.648363366570878\n",
      "0.8719089143881753\n",
      "11.531505138149571\n"
     ]
    }
   ],
   "source": [
    "from sklearn.ensemble import BaggingRegressor\n",
    "clf = BaggingRegressor()\n",
    "spe_item_predict(clf,train)\n",
    "#spe_store_predict(clf,train)\n",
    "spe_item_predict_3month(clf,train)\n",
    "spe_all_predict(clf,train)\n",
    "spe_all_predict_3month(clf,train)"
   ]
  },
  {
   "cell_type": "code",
   "execution_count": 40,
   "metadata": {},
   "outputs": [
    {
     "name": "stdout",
     "output_type": "stream",
     "text": [
      "0.8801955539730147\n",
      "12.391810598818509\n",
      "0.8810530355269324\n",
      "12.270389140459237\n",
      "0.8923528136551404\n",
      "10.116400452319656\n",
      "0.8916063717940722\n",
      "9.973709395640181\n"
     ]
    }
   ],
   "source": [
    "from sklearn.neighbors import KNeighborsRegressor\n",
    "clf = KNeighborsRegressor()\n",
    "spe_item_predict(clf,train)\n",
    "#spe_store_predict(clf,train)\n",
    "spe_item_predict_3month(clf,train)\n",
    "spe_all_predict(clf,train)\n",
    "spe_all_predict_3month(clf,train)"
   ]
  },
  {
   "cell_type": "code",
   "execution_count": 13,
   "metadata": {},
   "outputs": [
    {
     "name": "stdout",
     "output_type": "stream",
     "text": [
      "0.8922860409734525\n",
      "9.881724719366435\n"
     ]
    }
   ],
   "source": [
    "#調參\n",
    "from sklearn.neighbors import KNeighborsRegressor\n",
    "clf = KNeighborsRegressor(weights='distance')\n",
    "spe_all_predict_3month(clf,train)"
   ]
  },
  {
   "cell_type": "code",
   "execution_count": 20,
   "metadata": {},
   "outputs": [],
   "source": [
    "from sklearn.linear_model import ElasticNet,Lasso,Ridge"
   ]
  },
  {
   "cell_type": "code",
   "execution_count": 21,
   "metadata": {},
   "outputs": [
    {
     "name": "stdout",
     "output_type": "stream",
     "text": [
      "0.6666723825199938\n",
      "23.6313563399763\n",
      "0.7376211541361728\n",
      "19.695854013802563\n"
     ]
    }
   ],
   "source": [
    "clf = ElasticNet()\n",
    "spe_item_predict(clf,train)\n",
    "spe_item_predict_3month(clf,train)"
   ]
  },
  {
   "cell_type": "code",
   "execution_count": 22,
   "metadata": {},
   "outputs": [
    {
     "name": "stdout",
     "output_type": "stream",
     "text": [
      "0.7189102903749378\n",
      "21.781734108194215\n",
      "0.7845332722162611\n",
      "17.85640671863984\n"
     ]
    }
   ],
   "source": [
    "clf = Lasso()\n",
    "spe_item_predict(clf,train)\n",
    "spe_item_predict_3month(clf,train)"
   ]
  },
  {
   "cell_type": "code",
   "execution_count": 31,
   "metadata": {},
   "outputs": [
    {
     "name": "stdout",
     "output_type": "stream",
     "text": [
      "0.7945428990018273\n",
      "18.620387761981014\n",
      "0.897310182222301\n",
      "11.713666578395841\n",
      "0.9040357499932841\n",
      "10.091666343947425\n"
     ]
    }
   ],
   "source": [
    "clf = Ridge()\n",
    "spe_item_predict(clf,train)\n",
    "spe_item_predict_3month(clf,train)\n",
    "spe_all_predict_3month(clf,train)"
   ]
  },
  {
   "cell_type": "code",
   "execution_count": 33,
   "metadata": {},
   "outputs": [
    {
     "data": {
      "text/plain": [
       "<matplotlib.legend.Legend at 0x15da8f50>"
      ]
     },
     "execution_count": 33,
     "metadata": {},
     "output_type": "execute_result"
    },
    {
     "data": {
      "image/png": "[encoded data removed]",
      "text/plain": [
       "<Figure size 684x302.4 with 1 Axes>"
      ]
     },
     "metadata": {
      "needs_background": "light"
     },
     "output_type": "display_data"
    }
   ],
   "source": [
    "#在分商店跑下，全年和三個月的比較\n",
    "score_all = [0.932,0.917,0.909,0.905,0.877,0.91,0.917,0.865,0.795,0.795,0.667,0.719]\n",
    "score_3 = [0.906,0.903,0.877,0.872,0.833,0.881,0.903,0.863,0.897,0.897,0.738,0.785]\n",
    "clf = ['LightGBM','xgBoost','RandomForest','Bagging','DecisionTree','KNeighbors','GradientBoosting','AdaBoost',\n",
    "      'Ridge','LinearRegression','ElasticNet','Lasso']\n",
    "plt.figure(figsize=(9.5,4.2))\n",
    "plt.bar(clf,score_all,label='all',align=\"edge\",width = -0.35,fc='maroon')\n",
    "plt.bar(clf,score_3,label='3month',align=\"edge\",width = 0.35,fc='lightcoral')\n",
    "plt.xticks(rotation=90,fontsize=15)\n",
    "plt.yticks(fontsize=15)\n",
    "plt.xlabel(\"classifier\",fontsize=15)\n",
    "plt.ylabel(\"r2score\",fontsize=15)\n",
    "plt.legend(fontsize=14)"
   ]
  },
  {
   "cell_type": "code",
   "execution_count": 31,
   "metadata": {},
   "outputs": [
    {
     "data": {
      "text/plain": [
       "<matplotlib.legend.Legend at 0x15d06b50>"
      ]
     },
     "execution_count": 31,
     "metadata": {},
     "output_type": "execute_result"
    },
    {
     "data": {
      "image/png": "[encoded data removed]",
      "text/plain": [
       "<Figure size 504x302.4 with 1 Axes>"
      ]
     },
     "metadata": {
      "needs_background": "light"
     },
     "output_type": "display_data"
    }
   ],
   "source": [
    "#全年分開跑或一起跑\n",
    "score_toge = [0.925,0.613,0.873,0.872,0.849,0.834,0.616,0.218]\n",
    "score_spe = [0.932,0.917,0.909,0.905,0.877,0.91,0.917,0.865]\n",
    "clf = ['LightGBM','xgBoost','RandomForest','Bagging','DecisionTree','KNeighbors','GradientBoosting','AdaBoost']\n",
    "plt.figure(figsize=(7,4.2))\n",
    "plt.bar(clf,score_toge,label='together',align=\"edge\",width = -0.35,fc='crimson')\n",
    "plt.bar(clf,score_spe,label='sperate',align=\"edge\",width = 0.35,fc='lightpink')\n",
    "plt.xticks(rotation=90,fontsize=15)\n",
    "plt.yticks(fontsize=15)\n",
    "plt.xlabel(\"classifier\",fontsize=15)\n",
    "plt.ylabel(\"r2score\",fontsize=15)\n",
    "plt.legend(fontsize=14)"
   ]
  },
  {
   "cell_type": "code",
   "execution_count": 32,
   "metadata": {},
   "outputs": [
    {
     "data": {
      "text/plain": [
       "<matplotlib.legend.Legend at 0x15d34bd0>"
      ]
     },
     "execution_count": 32,
     "metadata": {},
     "output_type": "execute_result"
    },
    {
     "data": {
      "image/png": "[encoded data removed]",
      "text/plain": [
       "<Figure size 288x302.4 with 1 Axes>"
      ]
     },
     "metadata": {
      "needs_background": "light"
     },
     "output_type": "display_data"
    }
   ],
   "source": [
    "#三個月分開跑或一起跑\n",
    "score_toge = [0.846,0.8461,0.103,0.1130]\n",
    "score_spe = [0.897,0.897,0.738,0.785]\n",
    "clf = ['Ridge','LinearRegression','ElasticNet','Lasso']\n",
    "plt.figure(figsize=(4,4.2))\n",
    "plt.bar(clf,score_toge,label='together',align=\"edge\",width = -0.3,fc='darkslateblue')\n",
    "plt.bar(clf,score_spe,label='sperate',align=\"edge\",width = 0.3,fc='mediumpurple')\n",
    "plt.xticks(rotation=90,fontsize=15)\n",
    "plt.yticks(fontsize=15)\n",
    "plt.xlabel(\"classifier\",fontsize=15)\n",
    "plt.ylabel(\"r2score\",fontsize=15)\n",
    "plt.legend(fontsize=14)"
   ]
  },
  {
   "cell_type": "code",
   "execution_count": null,
   "metadata": {},
   "outputs": [],
   "source": []
  }
 ],
 "metadata": {
  "kernelspec": {
   "display_name": "Python 3",
   "language": "python",
   "name": "python3"
  },
  "language_info": {
   "codemirror_mode": {
    "name": "ipython",
    "version": 3
   },
   "file_extension": ".py",
   "mimetype": "text/x-python",
   "name": "python",
   "nbconvert_exporter": "python",
   "pygments_lexer": "ipython3",
   "version": "3.8.3"
  }
 },
 "nbformat": 4,
 "nbformat_minor": 2
}
